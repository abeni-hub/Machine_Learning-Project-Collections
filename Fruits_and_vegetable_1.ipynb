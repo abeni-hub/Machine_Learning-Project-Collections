{
  "cells": [
    {
      "cell_type": "markdown",
      "metadata": {
        "id": "view-in-github",
        "colab_type": "text"
      },
      "source": [
        "<a href=\"https://colab.research.google.com/github/abeni-hub/Machine_Learning-Project-Collections/blob/main/Fruits_and_vegetable_1.ipynb\" target=\"_parent\"><img src=\"https://colab.research.google.com/assets/colab-badge.svg\" alt=\"Open In Colab\"/></a>"
      ]
    },
    {
      "cell_type": "code",
      "execution_count": 12,
      "metadata": {
        "colab": {
          "base_uri": "https://localhost:8080/"
        },
        "id": "Vcb0dMPS8KqM",
        "outputId": "653510c3-5679-49c0-89ae-9aed31942fbd"
      },
      "outputs": [
        {
          "output_type": "stream",
          "name": "stdout",
          "text": [
            "Drive already mounted at /content/drive; to attempt to forcibly remount, call drive.mount(\"/content/drive\", force_remount=True).\n"
          ]
        }
      ],
      "source": [
        "from google.colab import drive\n",
        "drive.mount('/content/drive')"
      ]
    },
    {
      "cell_type": "code",
      "execution_count": 13,
      "metadata": {
        "id": "ShLXnD8y_VI8"
      },
      "outputs": [],
      "source": [
        "import numpy as np\n",
        "import tensorflow as tf\n",
        "from keras.preprocessing.image import ImageDataGenerator\n",
        "import matplotlib.pyplot as plt"
      ]
    },
    {
      "cell_type": "code",
      "execution_count": 14,
      "metadata": {
        "colab": {
          "base_uri": "https://localhost:8080/"
        },
        "id": "-jDFLgMR_jF-",
        "outputId": "4dd40d0b-6c27-4b82-8967-d6c8a4313d50"
      },
      "outputs": [
        {
          "output_type": "stream",
          "name": "stdout",
          "text": [
            "Found 1063 files belonging to 36 classes.\n"
          ]
        }
      ],
      "source": [
        "training_set = tf.keras.utils.image_dataset_from_directory(\n",
        "    '/content/drive/MyDrive/train',\n",
        "    labels='inferred',\n",
        "    label_mode = \"categorical\",\n",
        "    class_names=None,\n",
        "    color_mode='rgb',\n",
        "    batch_size=32,\n",
        "    image_size=(64, 64),\n",
        "    shuffle=True,\n",
        "    seed=None,\n",
        "    validation_split=None,\n",
        "    subset=None,\n",
        "    interpolation='bilinear',\n",
        "    follow_links=False,\n",
        "    crop_to_aspect_ratio=False\n",
        ")"
      ]
    },
    {
      "cell_type": "markdown",
      "metadata": {
        "id": "0Z_vAhPm8aW0"
      },
      "source": [
        "# Validation Testing"
      ]
    },
    {
      "cell_type": "code",
      "execution_count": 15,
      "metadata": {
        "colab": {
          "base_uri": "https://localhost:8080/"
        },
        "id": "U786kGnHIwlv",
        "outputId": "0ad4b0ef-a181-4c97-fd54-e5e09d7c3557"
      },
      "outputs": [
        {
          "output_type": "stream",
          "name": "stdout",
          "text": [
            "Found 351 files belonging to 36 classes.\n"
          ]
        }
      ],
      "source": [
        "validation_set = tf.keras.utils.image_dataset_from_directory(\n",
        "    '/content/drive/MyDrive/validation',\n",
        "    labels='inferred',\n",
        "    label_mode = \"categorical\",\n",
        "    class_names=None,\n",
        "    color_mode='rgb',\n",
        "    batch_size=32,\n",
        "    image_size=(64, 64),\n",
        "    shuffle=True,\n",
        "    seed=None,\n",
        "    validation_split=None,\n",
        "    subset=None,\n",
        "    interpolation='bilinear',\n",
        "    follow_links=False,\n",
        "    crop_to_aspect_ratio=False\n",
        ")"
      ]
    },
    {
      "cell_type": "markdown",
      "metadata": {
        "id": "75p9_DPmLB7i"
      },
      "source": [
        "## Building MODEL"
      ]
    },
    {
      "cell_type": "code",
      "execution_count": 16,
      "metadata": {
        "id": "lY8nm-2qLEr7"
      },
      "outputs": [],
      "source": [
        "cnn = tf.keras.models.Sequential()\n",
        "cnn.add(tf.keras.layers.Conv2D(filters = 64 , kernel_size = 3 , activation='relu',input_shape=[64,64,3]))\n",
        "cnn.add(tf.keras.layers.MaxPool2D(pool_size = 2 , strides = 2))"
      ]
    },
    {
      "cell_type": "code",
      "execution_count": 17,
      "metadata": {
        "id": "C7_oNVrRM03H"
      },
      "outputs": [],
      "source": [
        "cnn.add(tf.keras.layers.Conv2D(filters = 64 , kernel_size = 3 , activation='relu',input_shape=[64,64,3]))\n",
        "cnn.add(tf.keras.layers.MaxPool2D(pool_size = 2 , strides = 2))"
      ]
    },
    {
      "cell_type": "code",
      "execution_count": 18,
      "metadata": {
        "id": "UprwuJS9M6B0"
      },
      "outputs": [],
      "source": [
        "cnn.add(tf.keras.layers.Dropout(0.5)) #Used to avoid overfitting"
      ]
    },
    {
      "cell_type": "code",
      "execution_count": 19,
      "metadata": {
        "id": "TJSYDeOYNO0k"
      },
      "outputs": [],
      "source": [
        "cnn.add(tf.keras.layers.Flatten())"
      ]
    },
    {
      "cell_type": "code",
      "execution_count": 20,
      "metadata": {
        "id": "STFF9j4XNR8A"
      },
      "outputs": [],
      "source": [
        "cnn.add(tf.keras.layers.Dense(units =128 ,activation='relu')) # To make a neurons\n",
        "cnn.add(tf.keras.layers.Dense(units = 36 ,activation='softmax')) # To make output layers of the neuron"
      ]
    },
    {
      "cell_type": "markdown",
      "metadata": {
        "id": "UXEbLubwOXUU"
      },
      "source": [
        "#Compiling and Training Phase"
      ]
    },
    {
      "cell_type": "code",
      "execution_count": null,
      "metadata": {
        "id": "NoFlhkHhNj7M"
      },
      "outputs": [],
      "source": []
    },
    {
      "cell_type": "code",
      "execution_count": 21,
      "metadata": {
        "id": "f32hR_27Obgn"
      },
      "outputs": [],
      "source": [
        "cnn.compile(optimizer = 'rmsprop',loss ='categorical_crossentropy' , metrics=['accuracy'])"
      ]
    },
    {
      "cell_type": "code",
      "execution_count": 22,
      "metadata": {
        "colab": {
          "base_uri": "https://localhost:8080/"
        },
        "id": "eWEiU1AAO55s",
        "outputId": "823ed862-04ed-46a7-d1af-b25dce3f681d"
      },
      "outputs": [
        {
          "output_type": "stream",
          "name": "stdout",
          "text": [
            "Epoch 1/30\n",
            "34/34 [==============================] - 43s 1s/step - loss: 14.4744 - accuracy: 0.1430 - val_loss: 9.7541 - val_accuracy: 0.0684\n",
            "Epoch 2/30\n",
            "34/34 [==============================] - 41s 1s/step - loss: 5.4405 - accuracy: 0.1486 - val_loss: 5.3694 - val_accuracy: 0.1453\n",
            "Epoch 3/30\n",
            "34/34 [==============================] - 38s 1s/step - loss: 3.0004 - accuracy: 0.2549 - val_loss: 32.7854 - val_accuracy: 0.0655\n",
            "Epoch 4/30\n",
            "34/34 [==============================] - 39s 1s/step - loss: 3.4561 - accuracy: 0.3302 - val_loss: 11.9965 - val_accuracy: 0.2536\n",
            "Epoch 5/30\n",
            "34/34 [==============================] - 42s 1s/step - loss: 2.6010 - accuracy: 0.4036 - val_loss: 31.3506 - val_accuracy: 0.1197\n",
            "Epoch 6/30\n",
            "34/34 [==============================] - 42s 1s/step - loss: 2.8359 - accuracy: 0.4478 - val_loss: 27.3754 - val_accuracy: 0.1880\n",
            "Epoch 7/30\n",
            "34/34 [==============================] - 41s 1s/step - loss: 1.7223 - accuracy: 0.5663 - val_loss: 29.6916 - val_accuracy: 0.2764\n",
            "Epoch 8/30\n",
            "34/34 [==============================] - 38s 1s/step - loss: 3.5253 - accuracy: 0.6040 - val_loss: 35.8664 - val_accuracy: 0.2792\n",
            "Epoch 9/30\n",
            "34/34 [==============================] - 40s 1s/step - loss: 2.5061 - accuracy: 0.6416 - val_loss: 47.0068 - val_accuracy: 0.2365\n",
            "Epoch 10/30\n",
            "34/34 [==============================] - 42s 1s/step - loss: 0.8410 - accuracy: 0.7827 - val_loss: 29.0613 - val_accuracy: 0.3276\n",
            "Epoch 11/30\n",
            "34/34 [==============================] - 42s 1s/step - loss: 1.9367 - accuracy: 0.6773 - val_loss: 34.6520 - val_accuracy: 0.3362\n",
            "Epoch 12/30\n",
            "34/34 [==============================] - 39s 1s/step - loss: 1.0925 - accuracy: 0.7930 - val_loss: 42.1152 - val_accuracy: 0.2621\n",
            "Epoch 13/30\n",
            "34/34 [==============================] - 40s 1s/step - loss: 1.5180 - accuracy: 0.7883 - val_loss: 32.3734 - val_accuracy: 0.3219\n",
            "Epoch 14/30\n",
            "34/34 [==============================] - 41s 1s/step - loss: 1.1570 - accuracy: 0.7940 - val_loss: 36.7402 - val_accuracy: 0.3447\n",
            "Epoch 15/30\n",
            "34/34 [==============================] - 42s 1s/step - loss: 2.1838 - accuracy: 0.8194 - val_loss: 36.5235 - val_accuracy: 0.3333\n",
            "Epoch 16/30\n",
            "34/34 [==============================] - 40s 1s/step - loss: 0.8699 - accuracy: 0.8702 - val_loss: 41.3953 - val_accuracy: 0.3333\n",
            "Epoch 17/30\n",
            "34/34 [==============================] - 42s 1s/step - loss: 0.4223 - accuracy: 0.8890 - val_loss: 45.1213 - val_accuracy: 0.2991\n",
            "Epoch 18/30\n",
            "34/34 [==============================] - 40s 1s/step - loss: 0.8322 - accuracy: 0.8655 - val_loss: 39.8379 - val_accuracy: 0.3305\n",
            "Epoch 19/30\n",
            "34/34 [==============================] - 49s 1s/step - loss: 0.7305 - accuracy: 0.8824 - val_loss: 58.0663 - val_accuracy: 0.3305\n",
            "Epoch 20/30\n",
            "34/34 [==============================] - 41s 1s/step - loss: 1.2718 - accuracy: 0.8495 - val_loss: 53.6697 - val_accuracy: 0.3362\n",
            "Epoch 21/30\n",
            "34/34 [==============================] - 39s 1s/step - loss: 0.5268 - accuracy: 0.9285 - val_loss: 52.8907 - val_accuracy: 0.3362\n",
            "Epoch 22/30\n",
            "34/34 [==============================] - 43s 1s/step - loss: 0.8106 - accuracy: 0.8937 - val_loss: 68.7939 - val_accuracy: 0.3248\n",
            "Epoch 23/30\n",
            "34/34 [==============================] - 41s 1s/step - loss: 0.6449 - accuracy: 0.9050 - val_loss: 55.1348 - val_accuracy: 0.3447\n",
            "Epoch 24/30\n",
            "34/34 [==============================] - 42s 1s/step - loss: 0.7534 - accuracy: 0.9163 - val_loss: 63.7665 - val_accuracy: 0.3390\n",
            "Epoch 25/30\n",
            "34/34 [==============================] - 43s 1s/step - loss: 1.0374 - accuracy: 0.9087 - val_loss: 72.3851 - val_accuracy: 0.3077\n",
            "Epoch 26/30\n",
            "34/34 [==============================] - 41s 1s/step - loss: 0.3610 - accuracy: 0.9511 - val_loss: 63.3207 - val_accuracy: 0.3362\n",
            "Epoch 27/30\n",
            "34/34 [==============================] - 39s 1s/step - loss: 0.5629 - accuracy: 0.9266 - val_loss: 53.2506 - val_accuracy: 0.3333\n",
            "Epoch 28/30\n",
            "34/34 [==============================] - 41s 1s/step - loss: 0.6704 - accuracy: 0.9172 - val_loss: 58.2242 - val_accuracy: 0.3390\n",
            "Epoch 29/30\n",
            "34/34 [==============================] - 51s 1s/step - loss: 1.9287 - accuracy: 0.9040 - val_loss: 75.1092 - val_accuracy: 0.3276\n",
            "Epoch 30/30\n",
            "34/34 [==============================] - 40s 1s/step - loss: 0.6426 - accuracy: 0.9266 - val_loss: 71.0116 - val_accuracy: 0.3276\n"
          ]
        }
      ],
      "source": [
        "training_history = cnn.fit(x = training_set , validation_data = validation_set , epochs = 30)"
      ]
    },
    {
      "cell_type": "markdown",
      "metadata": {
        "id": "GFoNiCyjP6Yu"
      },
      "source": [
        "#Saving Model"
      ]
    },
    {
      "cell_type": "code",
      "execution_count": 24,
      "metadata": {
        "id": "Zp_1KoE6PpTW"
      },
      "outputs": [],
      "source": [
        "cnn.save('trained_model.h5')"
      ]
    },
    {
      "cell_type": "code",
      "execution_count": 25,
      "metadata": {
        "id": "38p5MARJTjlO",
        "colab": {
          "base_uri": "https://localhost:8080/"
        },
        "outputId": "0b62161d-512c-4837-e153-6ad4b3d8320c"
      },
      "outputs": [
        {
          "output_type": "execute_result",
          "data": {
            "text/plain": [
              "{'loss': [14.474396705627441,\n",
              "  5.440454006195068,\n",
              "  3.000399112701416,\n",
              "  3.4561190605163574,\n",
              "  2.6009762287139893,\n",
              "  2.8359012603759766,\n",
              "  1.7222645282745361,\n",
              "  3.525297164916992,\n",
              "  2.506056547164917,\n",
              "  0.8410431742668152,\n",
              "  1.936687707901001,\n",
              "  1.0925288200378418,\n",
              "  1.5180037021636963,\n",
              "  1.1569912433624268,\n",
              "  2.183760166168213,\n",
              "  0.8698760271072388,\n",
              "  0.42228975892066956,\n",
              "  0.8322134017944336,\n",
              "  0.7304633259773254,\n",
              "  1.2717609405517578,\n",
              "  0.5267865657806396,\n",
              "  0.8106227517127991,\n",
              "  0.6448823809623718,\n",
              "  0.7533586025238037,\n",
              "  1.0373773574829102,\n",
              "  0.36099985241889954,\n",
              "  0.5629060864448547,\n",
              "  0.6703989505767822,\n",
              "  1.9287446737289429,\n",
              "  0.6426323652267456],\n",
              " 'accuracy': [0.14299152791500092,\n",
              "  0.14863593876361847,\n",
              "  0.25493884086608887,\n",
              "  0.3301975429058075,\n",
              "  0.40357479453086853,\n",
              "  0.4477892816066742,\n",
              "  0.5663217306137085,\n",
              "  0.603951096534729,\n",
              "  0.6415804624557495,\n",
              "  0.7826905250549316,\n",
              "  0.6773282885551453,\n",
              "  0.793038547039032,\n",
              "  0.7883349061012268,\n",
              "  0.793979287147522,\n",
              "  0.8193790912628174,\n",
              "  0.870178759098053,\n",
              "  0.8889934420585632,\n",
              "  0.865475058555603,\n",
              "  0.8824082612991333,\n",
              "  0.8494825959205627,\n",
              "  0.928504228591919,\n",
              "  0.8936970829963684,\n",
              "  0.9049859046936035,\n",
              "  0.9162746667861938,\n",
              "  0.9087488055229187,\n",
              "  0.9510818719863892,\n",
              "  0.926622748374939,\n",
              "  0.9172154068946838,\n",
              "  0.9040451645851135,\n",
              "  0.926622748374939],\n",
              " 'val_loss': [9.754117965698242,\n",
              "  5.369357109069824,\n",
              "  32.78543472290039,\n",
              "  11.99646282196045,\n",
              "  31.350610733032227,\n",
              "  27.375377655029297,\n",
              "  29.691598892211914,\n",
              "  35.866390228271484,\n",
              "  47.00675582885742,\n",
              "  29.061298370361328,\n",
              "  34.651981353759766,\n",
              "  42.11518096923828,\n",
              "  32.37342834472656,\n",
              "  36.74024963378906,\n",
              "  36.52350997924805,\n",
              "  41.39527130126953,\n",
              "  45.12130355834961,\n",
              "  39.83790588378906,\n",
              "  58.06626892089844,\n",
              "  53.66971206665039,\n",
              "  52.890743255615234,\n",
              "  68.7939453125,\n",
              "  55.134765625,\n",
              "  63.766483306884766,\n",
              "  72.38509368896484,\n",
              "  63.32068634033203,\n",
              "  53.250640869140625,\n",
              "  58.224220275878906,\n",
              "  75.10916900634766,\n",
              "  71.01156616210938],\n",
              " 'val_accuracy': [0.0683760717511177,\n",
              "  0.14529915153980255,\n",
              "  0.0655270665884018,\n",
              "  0.25356125831604004,\n",
              "  0.11965811997652054,\n",
              "  0.18803419172763824,\n",
              "  0.27635326981544495,\n",
              "  0.27920228242874146,\n",
              "  0.23646724224090576,\n",
              "  0.3276353180408478,\n",
              "  0.3361823260784149,\n",
              "  0.2621082663536072,\n",
              "  0.32193732261657715,\n",
              "  0.34472933411598206,\n",
              "  0.3333333432674408,\n",
              "  0.3333333432674408,\n",
              "  0.29914531111717224,\n",
              "  0.3304843306541443,\n",
              "  0.3304843306541443,\n",
              "  0.3361823260784149,\n",
              "  0.3361823260784149,\n",
              "  0.32478633522987366,\n",
              "  0.34472933411598206,\n",
              "  0.3390313386917114,\n",
              "  0.3076923191547394,\n",
              "  0.3361823260784149,\n",
              "  0.3333333432674408,\n",
              "  0.3390313386917114,\n",
              "  0.3276353180408478,\n",
              "  0.3276353180408478]}"
            ]
          },
          "metadata": {},
          "execution_count": 25
        }
      ],
      "source": [
        "training_history.history"
      ]
    },
    {
      "cell_type": "code",
      "execution_count": 28,
      "metadata": {
        "id": "5WvbBYTmTKZQ"
      },
      "outputs": [],
      "source": [
        "# Recording History in json\n",
        "import json\n",
        "with open('training_hist.json', 'w') as f:\n",
        "    json.dump(training_history.history ,f)"
      ]
    },
    {
      "cell_type": "code",
      "source": [
        "print(training_history.history.keys())"
      ],
      "metadata": {
        "id": "afJHRQH5TJw0",
        "outputId": "d53f4881-cc37-4954-cf5f-ddd662f29a38",
        "colab": {
          "base_uri": "https://localhost:8080/"
        }
      },
      "execution_count": 29,
      "outputs": [
        {
          "output_type": "stream",
          "name": "stdout",
          "text": [
            "dict_keys(['loss', 'accuracy', 'val_loss', 'val_accuracy'])\n"
          ]
        }
      ]
    },
    {
      "cell_type": "markdown",
      "source": [
        "# Calculating Accuracy of Model Achieved on Validation Set"
      ],
      "metadata": {
        "id": "dgB-yrRuaZ37"
      }
    },
    {
      "cell_type": "code",
      "source": [
        "print(\"validation set Accuracy: {} %\".format(training_history.history['val_accuracy'][-1]*100))"
      ],
      "metadata": {
        "id": "O2vo4J-FaZWG",
        "outputId": "eecfb173-a4ec-4b38-959a-9f04af670ae7",
        "colab": {
          "base_uri": "https://localhost:8080/"
        }
      },
      "execution_count": 33,
      "outputs": [
        {
          "output_type": "stream",
          "name": "stdout",
          "text": [
            "validation set Accuracy: 32.76353180408478 %\n"
          ]
        }
      ]
    },
    {
      "cell_type": "code",
      "source": [
        "training_history.history['accuracy']"
      ],
      "metadata": {
        "id": "4_Bv-CRJejMh",
        "outputId": "ae7238ef-daec-489e-fc54-ba0cad50d7c7",
        "colab": {
          "base_uri": "https://localhost:8080/"
        }
      },
      "execution_count": 40,
      "outputs": [
        {
          "output_type": "execute_result",
          "data": {
            "text/plain": [
              "[0.14299152791500092,\n",
              " 0.14863593876361847,\n",
              " 0.25493884086608887,\n",
              " 0.3301975429058075,\n",
              " 0.40357479453086853,\n",
              " 0.4477892816066742,\n",
              " 0.5663217306137085,\n",
              " 0.603951096534729,\n",
              " 0.6415804624557495,\n",
              " 0.7826905250549316,\n",
              " 0.6773282885551453,\n",
              " 0.793038547039032,\n",
              " 0.7883349061012268,\n",
              " 0.793979287147522,\n",
              " 0.8193790912628174,\n",
              " 0.870178759098053,\n",
              " 0.8889934420585632,\n",
              " 0.865475058555603,\n",
              " 0.8824082612991333,\n",
              " 0.8494825959205627,\n",
              " 0.928504228591919,\n",
              " 0.8936970829963684,\n",
              " 0.9049859046936035,\n",
              " 0.9162746667861938,\n",
              " 0.9087488055229187,\n",
              " 0.9510818719863892,\n",
              " 0.926622748374939,\n",
              " 0.9172154068946838,\n",
              " 0.9040451645851135,\n",
              " 0.926622748374939]"
            ]
          },
          "metadata": {},
          "execution_count": 40
        }
      ]
    },
    {
      "cell_type": "markdown",
      "source": [
        "# Accuracy Visualization"
      ],
      "metadata": {
        "id": "Dn3zBYL0caFj"
      }
    },
    {
      "cell_type": "markdown",
      "source": [
        "Training Visualization"
      ],
      "metadata": {
        "id": "3AhcgE4acfm5"
      }
    },
    {
      "cell_type": "code",
      "source": [
        "epochs = [i for i in range(1,31)]\n",
        "plt.plot(epochs , training_history.history['accuracy'] , color= 'red')\n",
        "plt.xlabel('Epochs'  , color = \"Green\")\n",
        "plt.ylabel('Training Accuracy' , color = \"Brown\")\n",
        "plt.title('Training Accuracy' , color = \"Blue\")\n",
        "plt.show()"
      ],
      "metadata": {
        "id": "m1AQU0kZcdFP",
        "outputId": "49f1e37a-03c8-4fab-f244-e2189afc7633",
        "colab": {
          "base_uri": "https://localhost:8080/",
          "height": 472
        }
      },
      "execution_count": 44,
      "outputs": [
        {
          "output_type": "display_data",
          "data": {
            "text/plain": [
              "<Figure size 640x480 with 1 Axes>"
            ],
            "image/png": "[encoded data removed]"
          },
          "metadata": {}
        }
      ]
    },
    {
      "cell_type": "code",
      "source": [
        "\n",
        "plt.plot(epochs , training_history.history['val_accuracy'])"
      ],
      "metadata": {
        "id": "xajK-wnddLCW",
        "outputId": "6813259e-7d0a-4947-bb3d-62c2fd9d1458",
        "colab": {
          "base_uri": "https://localhost:8080/",
          "height": 447
        }
      },
      "execution_count": 39,
      "outputs": [
        {
          "output_type": "execute_result",
          "data": {
            "text/plain": [
              "[<matplotlib.lines.Line2D at 0x7a5c7b27e110>]"
            ]
          },
          "metadata": {},
          "execution_count": 39
        },
        {
          "output_type": "display_data",
          "data": {
            "text/plain": [
              "<Figure size 640x480 with 1 Axes>"
            ],
            "image/png": "[encoded data removed]"
          },
          "metadata": {}
        }
      ]
    },
    {
      "cell_type": "markdown",
      "source": [],
      "metadata": {
        "id": "RaxJB2fsghdQ"
      }
    },
    {
      "cell_type": "markdown",
      "source": [
        "Importing Libraries"
      ],
      "metadata": {
        "id": "1WSJ2sUPlb9R"
      }
    }
  ],
  "metadata": {
    "colab": {
      "provenance": [],
      "mount_file_id": "1aUAtJzDI9fJP0xJFEVoiQ-KgxnncnFaE",
      "authorship_tag": "ABX9TyMxGzMMpRQS2nkkPASanrY3",
      "include_colab_link": true
    },
    "kernelspec": {
      "display_name": "Python 3",
      "name": "python3"
    },
    "language_info": {
      "name": "python"
    }
  },
  "nbformat": 4,
  "nbformat_minor": 0
}